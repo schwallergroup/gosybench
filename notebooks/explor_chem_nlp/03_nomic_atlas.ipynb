{
 "cells": [
  {
   "cell_type": "markdown",
   "id": "4cda83ac-6a37-4ea4-94df-b93c915beedd",
   "metadata": {},
   "source": [
    "# Explore a bit the clusters with Nomic"
   ]
  },
  {
   "cell_type": "code",
   "execution_count": 1,
   "id": "bd0c083e-7b7b-439f-8f06-942b1766c4cb",
   "metadata": {},
   "outputs": [],
   "source": [
    "import re\n",
    "\n",
    "import numpy as np\n",
    "import pandas as pd\n",
    "import torch\n",
    "from nomic import atlas\n",
    "from tqdm.notebook import tqdm"
   ]
  },
  {
   "cell_type": "code",
   "execution_count": 2,
   "id": "a8d7ef7f-cc9d-4269-88fd-1088e9cf2e12",
   "metadata": {},
   "outputs": [],
   "source": [
    "import pickle\n",
    "\n",
    "# Load metadatas dict\n",
    "with open(\"../data/processed/sg_db.bin\", \"rb\") as f:\n",
    "    sg_db = pickle.load(f)"
   ]
  },
  {
   "cell_type": "code",
   "execution_count": 3,
   "id": "96c8b134-751d-4be6-90d5-265ab0cee90d",
   "metadata": {},
   "outputs": [
    {
     "name": "stdout",
     "output_type": "stream",
     "text": [
      "reaction set-up              1743928\n",
      "work-up                      1492285\n",
      "purification                  848536\n",
      "analysis                      783855\n",
      "purification and analysis      12490\n",
      "Reaction set-up                   19\n",
      "Conversion                         4\n",
      "purification and work-up           2\n",
      "Reaction Set-up                    2\n",
      "Reportation                        1\n",
      "Reporting                          1\n",
      "dtype: int64\n",
      "Index(['reaction set-up', 'work-up', 'purification', 'analysis',\n",
      "       'purification and analysis'],\n",
      "      dtype='object')\n",
      "CPU times: user 1.07 s, sys: 164 ms, total: 1.23 s\n",
      "Wall time: 1.23 s\n"
     ]
    }
   ],
   "source": [
    "%%time\n",
    "# Save subsets of segment_embeds by class\n",
    "\n",
    "# Get list of segment class\n",
    "sgm_cls = np.array([s[\"sgm_cls\"] for s in sg_db])\n",
    "\n",
    "# Count samples per class\n",
    "classes = pd.Series(sgm_cls).value_counts()\n",
    "print(classes)\n",
    "classes = classes[classes > 50].index\n",
    "print(classes)"
   ]
  },
  {
   "cell_type": "code",
   "execution_count": 4,
   "id": "8e4ac3a8-5008-4032-89c9-a8758af7ffc9",
   "metadata": {},
   "outputs": [
    {
     "data": {
      "text/html": [
       "\n",
       "    <?xml version='1.0' encoding='UTF-8'?>\n",
       "    <!DOCTYPE img PUBLIC \"-//W3C//DTD SVG 1.1//EN\" \"http://www.w3.org/Graphics/SVG/1.1/DTD/svg11.dtd\">\n",
       "    <img src=\"https://www.simolecule.com/cdkdepict/depict/bot/svg?smi=%5BAl%2B3%5D.%5BCl-%5D.%5BCl-%5D.%5BCl-%5D.%5BCl%3A5%5D%5BCH2%3A6%5D%5BCH2%3A7%5D%5BCH2%3A8%5D%5BC%3A9%5D%28Cl%29%3D%5BO%3A10%5D.%5BC%3A12%5D1%28%5BCH3%3A18%5D%29%5BCH%3A17%5D%3D%5BCH%3A16%5D%5BCH%3A15%5D%3D%5BCH%3A14%5D%5BCH%3A13%5D%3D1%3E%3E%5BCl%3A5%5D%5BCH2%3A6%5D%5BCH2%3A7%5D%5BCH2%3A8%5D%5BC%3A9%5D%28%5BC%3A15%5D1%5BCH%3A16%5D%3D%5BCH%3A17%5D%5BC%3A12%5D%28%5BCH3%3A18%5D%29%3D%5BCH%3A13%5D%5BCH%3A14%5D%3D1%29%3D%5BO%3A10%5D%20%7Cf%3A0.1.2.3%7C&w=-1&h=-1&abbr=on&hdisp=bridgehead&zoom=1.3&annotate=colmap&r=0\">\n",
       "    "
      ],
      "text/plain": [
       "<IPython.core.display.HTML object>"
      ]
     },
     "metadata": {},
     "output_type": "display_data"
    }
   ],
   "source": [
    "import urllib.parse\n",
    "\n",
    "import requests\n",
    "\n",
    "\n",
    "def cdk(smiles):\n",
    "    \"\"\"\n",
    "    Get a depiction of some smiles.\n",
    "    \"\"\"\n",
    "\n",
    "    form_smi = urllib.parse.quote(smiles)\n",
    "    img = f\"https://www.simolecule.com/cdkdepict/depict/bot/svg?smi={form_smi}&w=-1&h=-1&abbr=on&hdisp=bridgehead&zoom=1.3&annotate=colmap&r=0\"\n",
    "\n",
    "    t = f\"\"\"\n",
    "    <?xml version='1.0' encoding='UTF-8'?>\n",
    "    <!DOCTYPE img PUBLIC \"-//W3C//DTD SVG 1.1//EN\" \"http://www.w3.org/Graphics/SVG/1.1/DTD/svg11.dtd\">\n",
    "    <img src=\"{img}\">\n",
    "    \"\"\"\n",
    "    return t\n",
    "\n",
    "\n",
    "d = cdk(\n",
    "    \"[Al+3].[Cl-].[Cl-].[Cl-].[Cl:5][CH2:6][CH2:7][CH2:8][C:9](Cl)=[O:10].[C:12]1([CH3:18])[CH:17]=[CH:16][CH:15]=[CH:14][CH:13]=1>>[Cl:5][CH2:6][CH2:7][CH2:8][C:9]([C:15]1[CH:16]=[CH:17][C:12]([CH3:18])=[CH:13][CH:14]=1)=[O:10] |f:0.1.2.3|\"\n",
    ")\n",
    "from IPython.core.display import HTML\n",
    "from IPython.display import display\n",
    "\n",
    "display(HTML(d))"
   ]
  },
  {
   "cell_type": "code",
   "execution_count": null,
   "id": "ad55e5dd-3677-4687-b375-3d3a43330499",
   "metadata": {},
   "outputs": [],
   "source": [
    "rxn_cls = pd.read_csv(\"../data/processed/rxn_classes_namerxn.csv\")"
   ]
  },
  {
   "cell_type": "code",
   "execution_count": 38,
   "id": "f839f993-b044-4db5-a44d-2a2d4958ab07",
   "metadata": {},
   "outputs": [],
   "source": [
    "rcls_dd = rxn_cls.drop_duplicates(subset=[\"orig_smi\", \"cls_1\"])"
   ]
  },
  {
   "cell_type": "code",
   "execution_count": 48,
   "id": "a1e6ca6f-a48e-4f9d-aa02-23364c440904",
   "metadata": {},
   "outputs": [
    {
     "data": {
      "application/vnd.jupyter.widget-view+json": {
       "model_id": "adc37b2365b24ad8b056ec261cba5f7c",
       "version_major": 2,
       "version_minor": 0
      },
      "text/plain": [
       "  0%|          | 0/5 [00:00<?, ?it/s]"
      ]
     },
     "metadata": {},
     "output_type": "display_data"
    },
    {
     "name": "stdout",
     "output_type": "stream",
     "text": [
      "There are 1743928.0 reaction set-ups\n"
     ]
    },
    {
     "data": {
      "application/vnd.jupyter.widget-view+json": {
       "model_id": "dddb70c9d8a84126a8d5e60e709a6af7",
       "version_major": 2,
       "version_minor": 0
      },
      "text/plain": [
       "  0%|          | 0/100000 [00:00<?, ?it/s]"
      ]
     },
     "metadata": {},
     "output_type": "display_data"
    },
    {
     "name": "stderr",
     "output_type": "stream",
     "text": [
      "\u001b[32m2023-09-30 05:03:04.051\u001b[0m | \u001b[33m\u001b[1mWARNING \u001b[0m | \u001b[36mnomic.atlas\u001b[0m:\u001b[36mmap_embeddings\u001b[0m:\u001b[36m92\u001b[0m - \u001b[33m\u001b[1mAn ID field was not specified in your data so one was generated for you in insertion order.\u001b[0m\n",
      "\u001b[32m2023-09-30 05:03:09.351\u001b[0m | \u001b[1mINFO    \u001b[0m | \u001b[36mnomic.project\u001b[0m:\u001b[36m_create_project\u001b[0m:\u001b[36m790\u001b[0m - \u001b[1mCreating project `Semantic synthesis: reaction_set_up` in organization `doncamilom`\u001b[0m\n",
      "\u001b[32m2023-09-30 05:03:10.480\u001b[0m | \u001b[1mINFO    \u001b[0m | \u001b[36mnomic.atlas\u001b[0m:\u001b[36mmap_embeddings\u001b[0m:\u001b[36m108\u001b[0m - \u001b[1mUploading embeddings to Atlas.\u001b[0m\n",
      "\n",
      "  0%|                                                                                                                          | 0/99 [00:00<?, ?it/s]\u001b[A\n",
      "  1%|█▏                                                                                                                | 1/99 [00:01<03:12,  1.96s/it]\u001b[A\n",
      "  3%|███▍                                                                                                              | 3/99 [00:02<00:56,  1.69it/s]\u001b[A\n",
      " 11%|████████████▌                                                                                                    | 11/99 [00:02<00:15,  5.58it/s]\u001b[A\n",
      " 12%|█████████████▋                                                                                                   | 12/99 [00:03<00:17,  4.92it/s]\u001b[A\n",
      " 18%|████████████████████▌                                                                                            | 18/99 [00:03<00:11,  7.06it/s]\u001b[A\n",
      " 19%|█████████████████████▋                                                                                           | 19/99 [00:03<00:11,  7.16it/s]\u001b[A\n",
      " 20%|██████████████████████▊                                                                                          | 20/99 [00:04<00:12,  6.22it/s]\u001b[A\n",
      " 25%|████████████████████████████▌                                                                                    | 25/99 [00:04<00:06, 10.60it/s]\u001b[A\n",
      " 27%|██████████████████████████████▊                                                                                  | 27/99 [00:04<00:10,  6.67it/s]\u001b[A\n",
      " 31%|███████████████████████████████████▍                                                                             | 31/99 [00:05<00:07,  9.23it/s]\u001b[A\n",
      " 33%|█████████████████████████████████████▋                                                                           | 33/99 [00:05<00:08,  7.73it/s]\u001b[A\n",
      " 35%|███████████████████████████████████████▉                                                                         | 35/99 [00:05<00:08,  7.49it/s]\u001b[A\n",
      " 37%|██████████████████████████████████████████▏                                                                      | 37/99 [00:05<00:07,  8.75it/s]\u001b[A\n",
      " 41%|██████████████████████████████████████████████▊                                                                  | 41/99 [00:06<00:05, 10.21it/s]\u001b[A\n",
      " 43%|█████████████████████████████████████████████████                                                                | 43/99 [00:06<00:06,  8.72it/s]\u001b[A\n",
      " 45%|███████████████████████████████████████████████████▎                                                             | 45/99 [00:06<00:05,  9.77it/s]\u001b[A\n",
      " 51%|█████████████████████████████████████████████████████████                                                        | 50/99 [00:06<00:03, 13.08it/s]\u001b[A\n",
      " 53%|███████████████████████████████████████████████████████████▎                                                     | 52/99 [00:07<00:04, 11.60it/s]\u001b[A\n",
      " 55%|█████████████████████████████████████████████████████████████▋                                                   | 54/99 [00:07<00:04,  9.63it/s]\u001b[A\n",
      " 61%|████████████████████████████████████████████████████████████████████▍                                            | 60/99 [00:07<00:02, 14.62it/s]\u001b[A\n",
      " 63%|██████████████████████████████████████████████████████████████████████▊                                          | 62/99 [00:07<00:02, 13.30it/s]\u001b[A\n",
      " 65%|█████████████████████████████████████████████████████████████████████████                                        | 64/99 [00:08<00:03,  9.55it/s]\u001b[A\n",
      " 71%|███████████████████████████████████████████████████████████████████████████████▉                                 | 70/99 [00:08<00:02, 12.18it/s]\u001b[A\n",
      " 73%|██████████████████████████████████████████████████████████████████████████████████▏                              | 72/99 [00:08<00:02, 12.09it/s]\u001b[A\n",
      " 75%|████████████████████████████████████████████████████████████████████████████████████▍                            | 74/99 [00:09<00:02,  9.77it/s]\u001b[A\n",
      " 79%|█████████████████████████████████████████████████████████████████████████████████████████                        | 78/99 [00:09<00:01, 13.54it/s]\u001b[A\n",
      " 81%|███████████████████████████████████████████████████████████████████████████████████████████▎                     | 80/99 [00:09<00:01, 13.03it/s]\u001b[A\n",
      " 83%|█████████████████████████████████████████████████████████████████████████████████████████████▌                   | 82/99 [00:09<00:01, 10.15it/s]\u001b[A\n",
      " 85%|███████████████████████████████████████████████████████████████████████████████████████████████▉                 | 84/99 [00:10<00:01, 10.54it/s]\u001b[A\n",
      " 87%|██████████████████████████████████████████████████████████████████████████████████████████████████▏              | 86/99 [00:10<00:01, 11.21it/s]\u001b[A\n",
      " 90%|█████████████████████████████████████████████████████████████████████████████████████████████████████▌           | 89/99 [00:10<00:00, 13.99it/s]\u001b[A\n",
      " 92%|███████████████████████████████████████████████████████████████████████████████████████████████████████▊         | 91/99 [00:10<00:00, 14.85it/s]\u001b[A\n",
      " 94%|██████████████████████████████████████████████████████████████████████████████████████████████████████████▏      | 93/99 [00:10<00:00,  9.91it/s]\u001b[A\n",
      " 96%|████████████████████████████████████████████████████████████████████████████████████████████████████████████▍    | 95/99 [00:10<00:00, 11.40it/s]\u001b[A\n",
      " 98%|██████████████████████████████████████████████████████████████████████████████████████████████████████████████▋  | 97/99 [00:11<00:00, 11.97it/s]\u001b[A\n",
      "100it [00:11,  8.89it/s]                                                                                                                              \u001b[A\n",
      "\u001b[32m2023-09-30 05:03:25.758\u001b[0m | \u001b[1mINFO    \u001b[0m | \u001b[36mnomic.project\u001b[0m:\u001b[36m_add_data\u001b[0m:\u001b[36m1422\u001b[0m - \u001b[1mUpload succeeded.\u001b[0m\n",
      "\u001b[32m2023-09-30 05:03:25.775\u001b[0m | \u001b[1mINFO    \u001b[0m | \u001b[36mnomic.atlas\u001b[0m:\u001b[36mmap_embeddings\u001b[0m:\u001b[36m127\u001b[0m - \u001b[1mEmbedding upload succeeded.\u001b[0m\n",
      "\u001b[32m2023-09-30 05:03:27.261\u001b[0m | \u001b[1mINFO    \u001b[0m | \u001b[36mnomic.project\u001b[0m:\u001b[36mcreate_index\u001b[0m:\u001b[36m1132\u001b[0m - \u001b[1mCreated map `Semantic synthesis: reaction_set_up` in project `Semantic synthesis: reaction_set_up`: https://atlas.nomic.ai/map/d9350369-60bd-4eee-84ec-1f2637687b96/f371e178-2e49-4a25-bad5-fac75a0884c3\u001b[0m\n",
      "\u001b[32m2023-09-30 05:03:27.265\u001b[0m | \u001b[1mINFO    \u001b[0m | \u001b[36mnomic.atlas\u001b[0m:\u001b[36mmap_embeddings\u001b[0m:\u001b[36m140\u001b[0m - \u001b[1mSemantic synthesis: reaction_set_up: https://atlas.nomic.ai/map/d9350369-60bd-4eee-84ec-1f2637687b96/f371e178-2e49-4a25-bad5-fac75a0884c3\u001b[0m\n"
     ]
    },
    {
     "name": "stdout",
     "output_type": "stream",
     "text": [
      "Semantic synthesis: reaction_set_up: https://atlas.nomic.ai/map/d9350369-60bd-4eee-84ec-1f2637687b96/f371e178-2e49-4a25-bad5-fac75a0884c3\n"
     ]
    }
   ],
   "source": [
    "for i, cl in tqdm(enumerate(classes), total=len(classes)):\n",
    "    idx = np.ones(len(sgm_cls))\n",
    "    idx = np.where(np.array(sgm_cls) == cl, idx, 0)\n",
    "\n",
    "    print(f\"There are {idx.sum()} {cl}s\")\n",
    "\n",
    "    # Load subset and make map\n",
    "    cl = re.sub(\" |-\", \"_\", cl)\n",
    "    embs = torch.load(f\"../data/processed/embeds/segm_embs_{cl}.pt\")\n",
    "\n",
    "    meta = [b for i, b in enumerate(sg_db) if idx[i]]\n",
    "\n",
    "    # Select subsample and plot\n",
    "    sampl_idx = np.random.permutation(range(embs.shape[0]))[:100000]\n",
    "\n",
    "    embs_ss = embs[sampl_idx]\n",
    "    meta_ss = [meta[i] for i in sampl_idx]\n",
    "\n",
    "    smis = pd.Series([b[\"rxn_smi\"] for b in meta_ss], name=\"rxn_smi\")\n",
    "    rxn_clss = rcls_dd.merge(smis, left_on=\"orig_smi\", right_on=\"rxn_smi\", how=\"right\").cls_1\n",
    "\n",
    "    def pp(b, cls):\n",
    "        b[\"prd_str\"] = str(b[\"prd_str\"])\n",
    "        b[\"rxn_img\"] = cdk(b[\"rxn_smi\"])\n",
    "        b[\"rxn_cls\"] = cls\n",
    "        return b\n",
    "\n",
    "    meta_ss = [pp(b, cls) for b, cls in tqdm(zip(meta_ss, rxn_clss), total=len(meta_ss))]\n",
    "\n",
    "    response = atlas.map_embeddings(\n",
    "        name=f\"Semantic synthesis: {cl}\",\n",
    "        embeddings=embs_ss.numpy(),\n",
    "        data=meta_ss,\n",
    "        colorable_fields=[\"rxn_cls\", \"stp_ord\", \"src_prg\"],\n",
    "        reset_project_if_exists=True,\n",
    "    )\n",
    "    print(response)\n",
    "\n",
    "    break"
   ]
  },
  {
   "cell_type": "code",
   "execution_count": null,
   "id": "a79a6930-6261-4dee-9874-be283743229e",
   "metadata": {},
   "outputs": [],
   "source": []
  },
  {
   "cell_type": "code",
   "execution_count": null,
   "id": "32d4832b-df83-41aa-bb6d-699134fb4f4e",
   "metadata": {},
   "outputs": [],
   "source": []
  },
  {
   "cell_type": "code",
   "execution_count": null,
   "id": "603dbf99-9016-48ef-b4bd-d146e252d493",
   "metadata": {},
   "outputs": [],
   "source": []
  },
  {
   "cell_type": "code",
   "execution_count": null,
   "id": "559e3c73-d168-4d52-91cc-3f71aff6e947",
   "metadata": {},
   "outputs": [],
   "source": []
  }
 ],
 "metadata": {
  "kernelspec": {
   "display_name": "syn2act",
   "language": "python",
   "name": "syn2act"
  },
  "language_info": {
   "codemirror_mode": {
    "name": "ipython",
    "version": 3
   },
   "file_extension": ".py",
   "mimetype": "text/x-python",
   "name": "python",
   "nbconvert_exporter": "python",
   "pygments_lexer": "ipython3",
   "version": "3.9.17"
  }
 },
 "nbformat": 4,
 "nbformat_minor": 5
}
