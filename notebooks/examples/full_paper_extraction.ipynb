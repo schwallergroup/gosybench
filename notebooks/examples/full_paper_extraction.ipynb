{
 "cells": [
  {
   "cell_type": "markdown",
   "metadata": {},
   "source": [
    "# Examples of usage.\n",
    "\n",
    "\n",
    "## 1. Extracting a complete synthetic route from a research document (paper+SI)."
   ]
  },
  {
   "cell_type": "code",
   "execution_count": null,
   "metadata": {},
   "outputs": [],
   "source": [
    "import os\n",
    "import pickle\n",
    "\n",
    "import dspy\n",
    "from dotenv import load_dotenv\n",
    "\n",
    "from jasyntho import SynthTree\n",
    "from jasyntho.utils import Mistral\n",
    "\n",
    "load_dotenv()\n",
    "mistral_key = os.getenv(\"MISTRAL_API_KEY\")\n",
    "\n",
    "# Load a language model\n",
    "language_model = Mistral(\n",
    "    model=\"mistral-small-latest\",\n",
    "    api_key=mistral_key,\n",
    "    api_base=\"https://api.mistral.ai/v1/\",\n",
    "    temperature=0.1,\n",
    "    max_tokens=1000,\n",
    ")\n",
    "dspy.settings.configure(lm=language_model)"
   ]
  },
  {
   "cell_type": "code",
   "execution_count": null,
   "metadata": {},
   "outputs": [],
   "source": [
    "# 1. Create new tree object\n",
    "\n",
    "paper_src = \"../data/1c10539\"\n",
    "tree = SynthTree.from_dir(paper_src)"
   ]
  },
  {
   "cell_type": "code",
   "execution_count": null,
   "metadata": {},
   "outputs": [],
   "source": [
    "# 2. Extract products list from original tree object (extract_rss)\n",
    "\n",
    "# tree.raw_prods = await tree.extract_rss()\n",
    "# tree.products = [p for p in tree.raw_prods if not p.isempty()]\n",
    "\n",
    "with open(os.path.join(paper_src, \"raw_prods_full.tree\"), \"rb\") as f:\n",
    "    tree.raw_prods = pickle.load(f)\n",
    "    tree.products = [p for p in tree.raw_prods if not p.isempty()]"
   ]
  },
  {
   "cell_type": "code",
   "execution_count": null,
   "metadata": {},
   "outputs": [],
   "source": [
    "# 3. # OPTIONAL # . Get list of reachable subgraphs (this gives you a list of connected graphs!) (tree.disjoint_trees())\n",
    "disjoint_trees = tree.get_reachable_subgraphs()\n",
    "\n",
    "# 4. For each disjoint tree, find extra experimental connections. (make function for this)\n",
    "new_connects = tree.extended_connections()\n",
    "\n",
    "# Here we're basically trying to build more edges between substances that couldn't be captured with the basic connection extraction (step 2)\n",
    "# This new_connects object returns the reasoning behind the new connections\n",
    "print(new_connects)"
   ]
  },
  {
   "cell_type": "code",
   "execution_count": null,
   "metadata": {},
   "outputs": [],
   "source": [
    "# 4.1 You can always visualize the extracted trees accessing tree.list_disjoint\n",
    "\n",
    "dt = tree.list_disjoint\n",
    "\n",
    "import matplotlib.pyplot as plt\n",
    "import networkx as nx\n",
    "from networkx.drawing.nx_agraph import graphviz_layout\n",
    "\n",
    "\n",
    "def plot_graph(G):\n",
    "    fig = plt.figure(figsize=(10, 7))\n",
    "    pos = graphviz_layout(G, prog=\"dot\")\n",
    "    nx.draw(G, pos, with_labels=True, arrows=True)\n",
    "\n",
    "\n",
    "for g in dt.values():\n",
    "    if len(g) > 1:\n",
    "        plot_graph(g)"
   ]
  },
  {
   "cell_type": "code",
   "execution_count": null,
   "metadata": {},
   "outputs": [],
   "source": [
    "# 5. Get smiles for nodes in tree (only product nodes)\n",
    "tree.gather_smiles()"
   ]
  },
  {
   "cell_type": "code",
   "execution_count": null,
   "metadata": {},
   "outputs": [],
   "source": [
    "# 6. Export into usable json format\n",
    "# This format is adapted to aizynthfinder's synthesis format. Useful for visualization, GED calcs, etc.\n",
    "\n",
    "json_format = tree.export()  # gets a json for each disjoint tree"
   ]
  },
  {
   "cell_type": "code",
   "execution_count": null,
   "metadata": {},
   "outputs": [],
   "source": [
    "# 7. Visualize\n",
    "from rxn_tree_vis.reaction.reactiontree import ReactionTree\n",
    "\n",
    "key = \"28\"\n",
    "t = ReactionTree.from_dict(json[key])\n",
    "im = t.to_image()\n",
    "im.save(f\"img_{key}.png\")"
   ]
  }
 ],
 "metadata": {
  "language_info": {
   "name": "python"
  }
 },
 "nbformat": 4,
 "nbformat_minor": 2
}
