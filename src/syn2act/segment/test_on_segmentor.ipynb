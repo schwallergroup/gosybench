{
 "cells": [
  {
   "cell_type": "code",
   "execution_count": 2,
   "metadata": {},
   "outputs": [],
   "source": [
    "from Segmentor import Segmentor\n",
    "\n",
    "Q2_example = \"3-(4-chloro-2-fluoro-5-hydroxyphenyl)6-trifluoromethyl-2,4(1H,3H)-pyrmidinedione (2.5 g) was added to an ice cooled con. nitric acid (50 ml). After stirring for 1 hr, the reaction mixture was poured into ice-cold water. The yellow crystals were collected by filtration to afford the title compound (0.9 g). The filtrate was extracted by ethyl acetate (200 ml) and washed with brine. The organic phase was dried over anhydrous sodium sulfate. After removal of the solvent, 0.6 g of title compound was obtained as yellow crystal.\"\n",
    "Q3_example = \"To a rapidly stirred solution of saturated aqueous ammonium hydroxide (50 mL) and ice in a 0 deg. C. bath was added 2,4-dichloro-5-nitropyrimidine (6.0 g, 31 mmol) in portions. The resulting yellow foamy mixture was allowed to stir for 30 min, at which point the precipitate was isolated by filtration. The solid was rinsed several times with ice-cold water and once with ice cold ethanol to give a peach-colored solid. The crude solid was purified by adsorption onto 18 g silica gel, followed by silica gel chromatography, eluting with 0-20% MeOH/dichloromethane to give 2-chloro-5-nitropyrimidin-4-amine as an off-white solid. MS (ES+): 175 (M+H)+; Calc. for C4H3ClN4O2=174.55.\""
   ]
  },
  {
   "cell_type": "code",
   "execution_count": 5,
   "metadata": {},
   "outputs": [
    {
     "data": {
      "text/plain": [
       "[{'text segment': \"'3-(4-chloro-2-fluoro-5-hydroxyphenyl)6-trifluoromethyl-2,4(1H,3H)-pyrmidinedione (2.5 g) was added to an ice cooled con. nitric acid (50 ml). After stirring for 1 hr, the reaction mixture was poured into ice-cold water.'\",\n",
       "  'text class': 'reaction set-up',\n",
       "  'explanation': 'this is the reaction set-up because the main reactant (3-(4-chloro-2-fluoro-5-hydroxyphenyl)6-trifluoromethyl-2,4(1H,3H)-pyrmidinedione) is added to the solvent (con. nitric acid) and the reaction condition (ice cooled, stirring for 1 hr) is specified.',\n",
       "  'step order': '1'},\n",
       " {'text segment': \"'The yellow crystals were collected by filtration to afford the title compound (0.9 g).'\",\n",
       "  'text class': 'work-up',\n",
       "  'explanation': 'this is the work-up step because the product is isolated from the reaction mixture by filtration.',\n",
       "  'step order': '2'},\n",
       " {'text segment': \"'The filtrate was extracted by ethyl acetate (200 ml) and washed with brine. The organic phase was dried over anhydrous sodium sulfate. After removal of the solvent, 0.6 g of title compound was obtained as yellow crystal.'\",\n",
       "  'text class': 'work-up',\n",
       "  'explanation': 'this is the work-up step because the filtrate is extracted, washed, dried, and the solvent is removed to obtain the product.',\n",
       "  'step order': '3'}]"
      ]
     },
     "execution_count": 5,
     "metadata": {},
     "output_type": "execute_result"
    }
   ],
   "source": [
    "Q2_gpt_4_object = Segmentor(\"gpt-4\", Q2_example)\n",
    "Q2_gpt_4_object.syn2segment()"
   ]
  },
  {
   "cell_type": "code",
   "execution_count": 3,
   "metadata": {},
   "outputs": [
    {
     "data": {
      "text/plain": [
       "[{'text segment': \"'3-(4-chloro-2-fluoro-5-hydroxyphenyl)6-trifluoromethyl-2,4(1H,3H)-pyrmidinedione (2.5 g) was added to an ice cooled con. nitric acid (50 ml).'\",\n",
       "  'text class': 'reaction set-up',\n",
       "  'explanation': 'this is the reaction set-up step because the main reactant (3-(4-chloro-2-fluoro-5-hydroxyphenyl)6-trifluoromethyl-2,4(1H,3H)-pyrmidinedione) and the solvent (ice cooled con. nitric acid) are specified in this sentence.',\n",
       "  'step order': '1'},\n",
       " {'text segment': \"'After stirring for 1 hr, the reaction mixture was poured into ice-cold water.'\",\n",
       "  'text class': 'reaction set-up',\n",
       "  'explanation': 'this is the reaction set-up step because the duration of the reaction (1 hr) is given in this sentence.',\n",
       "  'step order': '2'},\n",
       " {'text segment': \"'The yellow crystals were collected by filtration to afford the title compound (0.9 g).'\",\n",
       "  'text class': 'work-up',\n",
       "  'explanation': 'this is the work-up step because the sentence describes the process of isolating the desired product (yellow crystals) from the reaction mixture by filtration.',\n",
       "  'step order': '3'},\n",
       " {'text segment': \"'The filtrate was extracted by ethyl acetate (200 ml) and washed with brine.'\",\n",
       "  'text class': 'work-up',\n",
       "  'explanation': 'this is the work-up step because the sentence describes the process of extracting the filtrate with ethyl acetate and washing it with brine to remove impurities.',\n",
       "  'step order': '4'},\n",
       " {'text segment': \"'The organic phase was dried over anhydrous sodium sulfate.'\",\n",
       "  'text class': 'work-up',\n",
       "  'explanation': 'this is the work-up step because the sentence describes the process of drying the organic phase using anhydrous sodium sulfate.',\n",
       "  'step order': '5'},\n",
       " {'text segment': \"'After removal of the solvent, 0.6 g of title compound was obtained as yellow crystal.'\",\n",
       "  'text class': 'work-up',\n",
       "  'explanation': 'this is the work-up step because the sentence describes the process of removing the solvent and obtaining the desired product (yellow crystal).',\n",
       "  'step order': '6'}]"
      ]
     },
     "execution_count": 3,
     "metadata": {},
     "output_type": "execute_result"
    }
   ],
   "source": [
    "Q2_gpt_35_object = Segmentor(\"gpt-3.5-turbo-16k\", Q2_example)\n",
    "Q2_gpt_35_object.syn2segment()"
   ]
  },
  {
   "cell_type": "code",
   "execution_count": 4,
   "metadata": {},
   "outputs": [
    {
     "data": {
      "text/plain": [
       "[{'text segment': \"'3-(4-chloro-2-fluoro-5-hydroxyphenyl)6-trifluoromethyl-2,4(1H,3H)-pyrmidinedione (2.5 g) was added to an ice cooled con. nitric acid (50 ml). After stirring for 1 hr,'\",\n",
       "  'text class': 'reaction set-up',\n",
       "  'explanation': 'this is the reaction set-up because the main reactant (3-(4-chloro-2-fluoro-5-hydroxyphenyl)6-trifluoromethyl-2,4(1H,3H)-pyrmidinedione) and solvent (nitric acid) were added. Also, the time of the reaction undergoing (stir for 1 hr) is specified in this paragraph.',\n",
       "  'step order': '1'},\n",
       " {'text segment': \"'the reaction mixture was poured into ice-cold water. The yellow crystals were collected by filtration to afford the title compound (0.9 g).'\",\n",
       "  'text class': 'work-up',\n",
       "  'explanation': 'this is the work-up step because the reaction mixture was poured into ice-cold water to stop the reaction and the product (yellow crystals) was collected by filtration.',\n",
       "  'step order': '2'},\n",
       " {'text segment': \"'The filtrate was extracted by ethyl acetate (200 ml) and washed with brine. The organic phase was dried over anhydrous sodium sulfate. After removal of the solvent, 0.6 g of title compound was obtained as yellow crystal.'\",\n",
       "  'text class': 'purification',\n",
       "  'explanation': 'this is the purification step because the filtrate was extracted, washed and dried to remove impurities. After removal of the solvent, the pure product (0.6 g of title compound) was obtained.',\n",
       "  'step order': '3'}]"
      ]
     },
     "execution_count": 4,
     "metadata": {},
     "output_type": "execute_result"
    }
   ],
   "source": [
    "Q2_anthropicai_object = Segmentor(\"anthropicai\", Q2_example)\n",
    "Q2_anthropicai_object.syn2segment()"
   ]
  },
  {
   "cell_type": "code",
   "execution_count": 9,
   "metadata": {},
   "outputs": [
    {
     "data": {
      "text/plain": [
       "[{'text segment': \"'15 g (0.076 mol) of 2-(Trifluoromethyl)quinoline [prepared from quinoline-2-carboxylic acid according to M. S. Raasch, J. Org. Chem. 27, 1406 (1962)] were hydrogenated in 100 ml of tetrahydrofuran on 2.5 g of ruthenium on alumina (about 10% RU content) at 180° C. for 8 h at an H2 pressure of 80-100 bar in a 0.3 1 V4A autoclave.'\",\n",
       "  'text class': 'reaction set-up',\n",
       "  'explanation': 'this is the reaction set-up because the reactant (2-(Trifluoromethyl)quinoline), solvent (tetrahydrofuran), catalyst (ruthenium on alumina), temperature (180° C.), time (8 h), and pressure (80-100 bar) are specified in this segment.',\n",
       "  'step order': '1'},\n",
       " {'text segment': \"'After filtration, the THF was stripped off and the crude product was fractionated in a water pump vacuum by means of a microdistillation apparatus.'\",\n",
       "  'text class': 'work-up',\n",
       "  'explanation': 'this is the work-up step because the paragraph states that the reaction mixture is filtered, the solvent (THF) is removed, and the crude product is fractionated using a microdistillation apparatus.',\n",
       "  'step order': '2'},\n",
       " {'text segment': \"'B.p.16 (main fraction)\",\n",
       "  'text class': 'analysis',\n",
       "  'explanation': 'this is the analysis step because the boiling point, yield, and NMR data (19F--NMR) are provided in this paragraph.',\n",
       "  'step order': '3'}]"
      ]
     },
     "execution_count": 9,
     "metadata": {},
     "output_type": "execute_result"
    }
   ],
   "source": [
    "Q3_gpt_4_object = Segmentor(\"gpt-4\", Q3_example)\n",
    "Q3_gpt_4_object.syn2segment()"
   ]
  },
  {
   "cell_type": "code",
   "execution_count": 11,
   "metadata": {},
   "outputs": [
    {
     "data": {
      "text/plain": [
       "[{'text segment': \"'15 g (0.076 mol) of 2-(Trifluoromethyl)quinoline [prepared from quinoline-2-carboxylic acid according to M. S. Raasch, J. Org. Chem. 27, 1406 (1962)] were hydrogenated in 100 ml of tetrahydrofuran on 2.5 g of ruthenium on alumina (about 10% RU content) at 180° C. for 8 h at an H2 pressure of 80-100 bar in a 0.3 1 V4A autoclave.'\",\n",
       "  'text class': 'reaction set-up',\n",
       "  'explanation': 'this is the reaction set-up step because the main reactant (2-(Trifluoromethyl)quinoline), the solvent (tetrahydrofuran), the catalyst (ruthenium on alumina), the reaction conditions (180° C, 8 h, H2 pressure of 80-100 bar), and the reaction vessel (0.3 1 V4A autoclave) are specified in this paragraph.',\n",
       "  'step order': '1'},\n",
       " {'text segment': \"'After filtration, the THF was stripped off and the crude product was fractionated in a water pump vacuum by means of a microdistillation apparatus.'\",\n",
       "  'text class': 'work-up',\n",
       "  'explanation': \"this is the work-up step because the THF is removed ('stripped off') and the crude product is fractionated ('fractionated in a water pump vacuum by means of a microdistillation apparatus').\",\n",
       "  'step order': '2'},\n",
       " {'text segment': \"'B.p.16 (main fraction)\",\n",
       "  'text class': 'purification',\n",
       "  'explanation': \"this is the purification step because the boiling point of the main fraction is given ('B.p.16 (main fraction)\",\n",
       "  'step order': '3'},\n",
       " {'text segment': \"'19F--NMR\",\n",
       "  'text class': 'analysis',\n",
       "  'explanation': 'this is the analysis step as the analytical technique (19F--NMR) is given in this paragraph, along with the chemical shifts and coupling constants.',\n",
       "  'step order': '4'}]"
      ]
     },
     "execution_count": 11,
     "metadata": {},
     "output_type": "execute_result"
    }
   ],
   "source": [
    "Q3_gpt_35_object = Segmentor(\"gpt-3.5-turbo-16k\", Q3_example)\n",
    "Q3_gpt_35_object.syn2segment()"
   ]
  },
  {
   "cell_type": "code",
   "execution_count": 12,
   "metadata": {},
   "outputs": [
    {
     "data": {
      "text/plain": [
       "[{'text segment': \"'15 g (0.076 mol) of 2-(Trifluoromethyl)quinoline [prepared from quinoline-2-carboxylic acid according to M. S. Raasch, J. Org. Chem. 27, 1406 (1962)] were hydrogenated in 100 ml of tetrahydrofuran on 2.5 g of ruthenium on alumina (about 10% RU content) at 180° C. for 8 h at an H2 pressure of 80-100 bar in a 0.3 1 V4A autoclave.'\",\n",
       "  'text class': 'reaction set-up',\n",
       "  'explanation': 'this is the reaction set-up because the main reactants (2-(Trifluoromethyl)quinoline, ruthenium on alumina), solvent (tetrahydrofuran), catalyst (ruthenium on alumina), temperature (180° C), pressure (80-100 bar), duration (8 h) and equipment (0.3 1 V4A autoclave) are specified in this segment.',\n",
       "  'step order': '1'},\n",
       " {'text segment': \"'After filtration, the THF was stripped off and the crude product was fractionated in a water pump vacuum by means of a microdistillation apparatus.'\",\n",
       "  'text class': 'work-up',\n",
       "  'explanation': 'this is the work-up step because the paragraph states that the products were filtered, stripped off and fractionated.',\n",
       "  'step order': '2'},\n",
       " {'text segment': \"'B.p.16 (main fraction)\",\n",
       "  'text class': 'purification',\n",
       "  'explanation': 'this is the purification step because the boiling point (88° C) and yield (12.5 g, 80%) of the purified product are indicated in this segment.',\n",
       "  'step order': '3'},\n",
       " {'text segment': \"'The product was obtained as a diastereomer mixture. 19F--NMR\",\n",
       "  'text class': 'analysis',\n",
       "  'explanation': 'this is the analysis as the analytical methods (19F--NMR) are given in this paragraph.',\n",
       "  'step order': '4'}]"
      ]
     },
     "execution_count": 12,
     "metadata": {},
     "output_type": "execute_result"
    }
   ],
   "source": [
    "Q3_anthropicai_object = Segmentor(\"anthropicai\", Q3_example)\n",
    "Q3_anthropicai_object.syn2segment()"
   ]
  },
  {
   "cell_type": "code",
   "execution_count": 18,
   "metadata": {},
   "outputs": [
    {
     "data": {
      "text/html": [
       "<div>\n",
       "<style scoped>\n",
       "    .dataframe tbody tr th:only-of-type {\n",
       "        vertical-align: middle;\n",
       "    }\n",
       "\n",
       "    .dataframe tbody tr th {\n",
       "        vertical-align: top;\n",
       "    }\n",
       "\n",
       "    .dataframe thead th {\n",
       "        text-align: right;\n",
       "    }\n",
       "</style>\n",
       "<table border=\"1\" class=\"dataframe\">\n",
       "  <thead>\n",
       "    <tr style=\"text-align: right;\">\n",
       "      <th></th>\n",
       "      <th>gpt-4</th>\n",
       "      <th>gpt-3.5-turbo-16k</th>\n",
       "      <th>anthropicai-claude-v1.3</th>\n",
       "    </tr>\n",
       "  </thead>\n",
       "  <tbody>\n",
       "    <tr>\n",
       "      <th>Q2</th>\n",
       "      <td>41.8</td>\n",
       "      <td>16.4</td>\n",
       "      <td>12.1</td>\n",
       "    </tr>\n",
       "    <tr>\n",
       "      <th>Q3</th>\n",
       "      <td>56.3</td>\n",
       "      <td>19.5</td>\n",
       "      <td>14.7</td>\n",
       "    </tr>\n",
       "  </tbody>\n",
       "</table>\n",
       "</div>"
      ],
      "text/plain": [
       "    gpt-4  gpt-3.5-turbo-16k  anthropicai-claude-v1.3\n",
       "Q2   41.8               16.4                     12.1\n",
       "Q3   56.3               19.5                     14.7"
      ]
     },
     "execution_count": 18,
     "metadata": {},
     "output_type": "execute_result"
    }
   ],
   "source": [
    "import numpy as np\n",
    "import pandas as pd\n",
    "\n",
    "model_name = [\"gpt-4\", \"gpt-3.5-turbo-16k\", \"anthropicai-claude-v1.3\"]\n",
    "paragraph = [\"Q2\", \"Q3\"]\n",
    "data = np.array([41.8, 16.4, 12.1, 56.3, 19.5, 14.7])\n",
    "new_data = data.reshape(2, 3)\n",
    "df = pd.DataFrame(new_data, columns=model_name, index=paragraph)\n",
    "df"
   ]
  },
  {
   "attachments": {},
   "cell_type": "markdown",
   "metadata": {},
   "source": [
    "To a solution of 7-bromo-4,4-dimethyl-6-hydroxy-1-isopropyl-3,4-dihydronaphthalene (Compound A-30, U.S. Pat. No. 6,613,917, 0.251 g, 0.814 mmol) in acetone (10 mL) at room temperature was added potassium carbonate (422 mg) and iodoethane (0.651 mL, 8.14 mmol), and the resulting solution was stirred at 60° C. for 16 h, then cooled to room temperature. The mixture was diluted with water, extracted with hexane, and washed with 2N NaOH, and brine, dried over MgSO4, and filtered. The solvent was removed under reduce pressure, and the residue was purified by flash column chromatography (silica gel, 98:2 hexane/ethyl acetate) to afford the title compound as a clear oil.\n",
    "\n",
    "15 g (0.076 mol) of 2-(Trifluoromethyl)quinoline [prepared from quinoline-2-carboxylic acid according to M. S. Raasch, J. Org. Chem. 27, 1406 (1962)] were hydrogenated in 100 ml of tetrahydrofuran on 2.5 g of ruthenium on alumina (about 10% RU content) at 180° C. for 8 h at an H2 pressure of 80-100 bar in a 0.3 1 V4A autoclave. After filtration, the THF was stripped off and the crude product was fractionated in a water pump vacuum by means of a microdistillation apparatus. B.p.16 (main fraction): 88° C. Yield: 12.5 g (0.061 mol) (80% of theory) The product was obtained as a diastereomer mixture. 19F--NMR: δ=+0.65 ppm(d, JH-F =7.1 Hz)(according to integral about 88%) 19F--NMR: δ=+0.90 ppm(d, JH-F =7.1 Hz)(according to integral about 12%) (against external CF3COOH).\n",
    "\n",
    "To a rapidly stirred solution of saturated aqueous ammonium hydroxide (50 mL) and ice in a 0 deg. C. bath was added 2,4-dichloro-5-nitropyrimidine (6.0 g, 31 mmol) in portions. The resulting yellow foamy mixture was allowed to stir for 30 min, at which point the precipitate was isolated by filtration. The solid was rinsed several times with ice-cold water and once with ice cold ethanol to give a peach-colored solid. The crude solid was purified by adsorption onto 18 g silica gel, followed by silica gel chromatography, eluting with 0-20% MeOH/dichloromethane to give 2-chloro-5-nitropyrimidin-4-amine as an off-white solid. MS (ES+): 175 (M+H)+; Calc. for C4H3ClN4O2=174.55.\n",
    "\n",
    "Methyl 5-methyl-3-oxo-4-[3-(trifluoromethyl)phenyl]-3,4-dihydropyrazine-2-carboxylate (described in the synthesis of SM2, 1.5 g, 4.8 mmol), dry DCM (7.0 mL), trifluoroacetic acid (3.0 mL) and N-iodosuccinimide (1.0 g, 4.5 mmol) were mixed and stirred at RT in the dark (flask covered with aluminum foil). After 5 h, water (5 mL) was added and the mixture was concentrated by rotary evaporation. Water (3 mL) was added once more and the mixture was concentrated as described above. The resulting mixture was diluted with acetonitrile to a total volume of 50 mL. Purification by preparative HPLC with acetonitrile-water as eluent (neutral eluent) gave 0.905 g (46% yield) of the title compound as a yellow crystalline solid.\n",
    "\n",
    "Prepared according to procedure T using 4-(3,3-dimethylindolin-6-yl)morpholine (0.2 g, 0.86 mmol), 7,9-dichloro-3,3-dimethyl-2,3-dihydro-1H-cyclopenta[b]-quinoline (0.434 g, 1.72 mmol), cesium carbonate (0.561 g, 1.72 mmol), Pd2(dba)3 (0.079 g, 0.086 mmol) and (±) BINAP (0.084 g, 0.129 mmol) in 1,4-dioxane (2 mL). After HPLC purification 7-chloro-9-(3,3-dimethyl-6-(4-morpholinyl)-2,3-dihydro-1H-indol-1-yl)-3,3-dimethyl-2,3-dihydro-1H-cyclopenta[b]-quinoline was obtained. 1H NMR (500 MHz, DMSO-d6) δ ppm 8.02 (1H, d, J=9.0 Hz), 7.86 (1H, m), 7.68 (1H, m), 7.06 (1H, m), 6.38 (1H, m), 5.73 (1H, s), 3.86 (2H, d, J=0.5 Hz), 3.73 (2H, s), 3.62 (4H, dd, J=5.4, 4.4 Hz), 3.06 (1H, m), 2.84-2.94 (4H, m), 1.96 (1H, m), 1.33 (12H, m). Mass Spectrum (ESI) m/e=463 (M+1)."
   ]
  },
  {
   "cell_type": "code",
   "execution_count": 20,
   "metadata": {},
   "outputs": [],
   "source": [
    "Q2_ex1 = \"To a solution of (2-methoxyethyl)-5-O-benzoyl-3-deoxy-D-xylofuranose (example 122) (9.59 g, 32.40 mmol) and imidazole (3.980 g, 58.47 mmol) in DMF (40 mL ) at room temperature was added t-butyldimethylsilyl chloride (6.35 g, 42.12 mmol). The solution was stirred for 3 h and saturated NaHCO3 was added. The mixture was concentrated under vacuo. The residue was then partitioned between ether (100 mL) and water (50 mL). The aqueous phase was further extracted with ether (2×50 mL). The combined extracts were washed with brine (2×50 mL) dried (MgSO4) and concentrated to give the title compound (13.3 g, 100%)\"\n",
    "Q2_ex2 = \"The title compound was prepared according to the procedure described in step-5 and step-6 of Intermediate-2 by using 1-chloro-2-fluoro-3-iodobenzene (1.0 g, 3.9 mmol), ethynyl(trimethyl)silane (0.541 g, 5.5 mmol), copper iodide (0.027 g, 0.14 mmol), bis(triphenylphosphine) palladium(II) chloride (0.050 g, 0.072 mmol), TBAF (catalytic) and DCM to afford 0.500 g of desired product. 1H NMR (300 MHz, DMSO d6): δ 4.66 (s, 1H), 7.25 (t, J=8.4 Hz, 1H), 7.54 (t, J=7.2 Hz, 1H), 7.65 (t, J=7.8 Hz, 1H).\"\n",
    "Q2_ex3 = \"3-(4-chloro-2-fluoro-5-hydroxyphenyl)6-trifluoromethyl-2,4(1H,3H)-pyrmidinedione (2.5 g) was added to an ice cooled con. nitric acid (50 ml). After stirring for 1 hr, the reaction mixture was poured into ice-cold water. The yellow crystals were collected by filtration to afford the title compound (0.9 g). The filtrate was extracted by ethyl acetate (200 ml) and washed with brine. The organic phase was dried over anhydrous sodium sulfate. After removal of the solvent, 0.6 g of title compound was obtained as yellow crystal.\"\n",
    "Q2_ex4 = \"N-(4-(2-aminoethoxy)-3-(1-methyl-1H-pyrazol-5-yl)phenyl)-3-methoxybenzamide hydrochloride (80.0 mg, 198 μmol), triethylamine (277 μl, 10 eq) and triphosgene (64.8 mg, 1.1 eq) were dissolved in 5 mL of dichloromethane and stirred under reflux for 5 mins. The solvent was removed under vacuum and 4 mL of ethyl acetate was added. It was divided in two and used immediately in the preparation of compound 5 and 7 without purification. LCMS m/z (%)=528 (M+H, 100).\"\n",
    "Q2_ex5 = \"This compound was synthesized according to the general method of Compound 50 via iodomethyl 2-butylhexanoate. The product precipitated from the reaction to give Compound 51 (1.44 g, 72%). 1H-NMR (300 MHz, CDCl3) δ 6.96 (3H, m), 6.66 (1H, d), 6.36 (1H, s), 5.81 (2H, s), 5.30 (1H, s), 3.98 (2H, m), 3.78 (6H, m), 3.56 (3H, s), 2.50 (1H, m), 2.31 (3H, s), 1.49-1.72 (4H, m), 1.27-1.35 (8H, m), 0.87 (6H, t).\"\n",
    "Q2_list = [Q2_ex1, Q2_ex2, Q2_ex3, Q2_ex4, Q2_ex5]"
   ]
  },
  {
   "cell_type": "code",
   "execution_count": 21,
   "metadata": {},
   "outputs": [],
   "source": [
    "Q3_ex1 = \"To a solution of 7-bromo-4,4-dimethyl-6-hydroxy-1-isopropyl-3,4-dihydronaphthalene (Compound A-30, U.S. Pat. No. 6,613,917, 0.251 g, 0.814 mmol) in acetone (10 mL) at room temperature was added potassium carbonate (422 mg) and iodoethane (0.651 mL, 8.14 mmol), and the resulting solution was stirred at 60° C. for 16 h, then cooled to room temperature. The mixture was diluted with water, extracted with hexane, and washed with 2N NaOH, and brine, dried over MgSO4, and filtered. The solvent was removed under reduce pressure, and the residue was purified by flash column chromatography (silica gel, 98:2 hexane/ethyl acetate) to afford the title compound as a clear oil.\"\n",
    "Q3_ex2 = \"15 g (0.076 mol) of 2-(Trifluoromethyl)quinoline [prepared from quinoline-2-carboxylic acid according to M. S. Raasch, J. Org. Chem. 27, 1406 (1962)] were hydrogenated in 100 ml of tetrahydrofuran on 2.5 g of ruthenium on alumina (about 10% RU content) at 180° C. for 8 h at an H2 pressure of 80-100 bar in a 0.3 1 V4A autoclave. After filtration, the THF was stripped off and the crude product was fractionated in a water pump vacuum by means of a microdistillation apparatus. B.p.16 (main fraction): 88° C. Yield: 12.5 g (0.061 mol) (80% of theory) The product was obtained as a diastereomer mixture. 19F--NMR: δ=+0.65 ppm(d, JH-F =7.1 Hz)(according to integral about 88%) 19F--NMR: δ=+0.90 ppm(d, JH-F =7.1 Hz)(according to integral about 12%) (against external CF3COOH).\"\n",
    "Q3_ex3 = \"To a rapidly stirred solution of saturated aqueous ammonium hydroxide (50 mL) and ice in a 0 deg. C. bath was added 2,4-dichloro-5-nitropyrimidine (6.0 g, 31 mmol) in portions. The resulting yellow foamy mixture was allowed to stir for 30 min, at which point the precipitate was isolated by filtration. The solid was rinsed several times with ice-cold water and once with ice cold ethanol to give a peach-colored solid. The crude solid was purified by adsorption onto 18 g silica gel, followed by silica gel chromatography, eluting with 0-20% MeOH/dichloromethane to give 2-chloro-5-nitropyrimidin-4-amine as an off-white solid. MS (ES+): 175 (M+H)+; Calc. for C4H3ClN4O2=174.55.\"\n",
    "Q3_ex4 = \"Methyl 5-methyl-3-oxo-4-[3-(trifluoromethyl)phenyl]-3,4-dihydropyrazine-2-carboxylate (described in the synthesis of SM2, 1.5 g, 4.8 mmol), dry DCM (7.0 mL), trifluoroacetic acid (3.0 mL) and N-iodosuccinimide (1.0 g, 4.5 mmol) were mixed and stirred at RT in the dark (flask covered with aluminum foil). After 5 h, water (5 mL) was added and the mixture was concentrated by rotary evaporation. Water (3 mL) was added once more and the mixture was concentrated as described above. The resulting mixture was diluted with acetonitrile to a total volume of 50 mL. Purification by preparative HPLC with acetonitrile-water as eluent (neutral eluent) gave 0.905 g (46% yield) of the title compound as a yellow crystalline solid.\"\n",
    "Q3_ex5 = \"Prepared according to procedure T using 4-(3,3-dimethylindolin-6-yl)morpholine (0.2 g, 0.86 mmol), 7,9-dichloro-3,3-dimethyl-2,3-dihydro-1H-cyclopenta[b]-quinoline (0.434 g, 1.72 mmol), cesium carbonate (0.561 g, 1.72 mmol), Pd2(dba)3 (0.079 g, 0.086 mmol) and (±) BINAP (0.084 g, 0.129 mmol) in 1,4-dioxane (2 mL). After HPLC purification 7-chloro-9-(3,3-dimethyl-6-(4-morpholinyl)-2,3-dihydro-1H-indol-1-yl)-3,3-dimethyl-2,3-dihydro-1H-cyclopenta[b]-quinoline was obtained. 1H NMR (500 MHz, DMSO-d6) δ ppm 8.02 (1H, d, J=9.0 Hz), 7.86 (1H, m), 7.68 (1H, m), 7.06 (1H, m), 6.38 (1H, m), 5.73 (1H, s), 3.86 (2H, d, J=0.5 Hz), 3.73 (2H, s), 3.62 (4H, dd, J=5.4, 4.4 Hz), 3.06 (1H, m), 2.84-2.94 (4H, m), 1.96 (1H, m), 1.33 (12H, m). Mass Spectrum (ESI) m/e=463 (M+1).\"\n",
    "Q3_list = [Q3_ex1, Q3_ex2, Q3_ex3, Q3_ex4, Q3_ex5]"
   ]
  },
  {
   "cell_type": "code",
   "execution_count": 27,
   "metadata": {},
   "outputs": [],
   "source": [
    "import time\n",
    "\n",
    "model_name = [\"gpt-4\", \"gpt-3.5-turbo-16k\", \"anthropicai-claude-v1.3\"]\n",
    "example = [\"Ex1\", \"Ex2\", \"Ex3\", \"Ex4\", \"Ex5\"]"
   ]
  },
  {
   "cell_type": "code",
   "execution_count": 24,
   "metadata": {},
   "outputs": [
    {
     "name": "stderr",
     "output_type": "stream",
     "text": [
      "/home/lance/software/miniconda3/envs/syn2act/lib/python3.9/site-packages/langchain/llms/anthropic.py:134: UserWarning: This Anthropic LLM is deprecated. Please use `from langchain.chat_models import ChatAnthropic` instead\n",
      "  warnings.warn(\n"
     ]
    },
    {
     "ename": "ValueError",
     "evalue": "Shape of passed values is (3, 5), indices imply (2, 3)",
     "output_type": "error",
     "traceback": [
      "\u001b[0;31m---------------------------------------------------------------------------\u001b[0m",
      "\u001b[0;31mValueError\u001b[0m                                Traceback (most recent call last)",
      "Cell \u001b[0;32mIn[24], line 29\u001b[0m\n\u001b[1;32m     27\u001b[0m data \u001b[39m=\u001b[39m np\u001b[39m.\u001b[39marray(Q2_time_list)\n\u001b[1;32m     28\u001b[0m new_data \u001b[39m=\u001b[39m data\u001b[39m.\u001b[39mreshape(\u001b[39m3\u001b[39m,\u001b[39m5\u001b[39m)\n\u001b[0;32m---> 29\u001b[0m df_Q2 \u001b[39m=\u001b[39m pd\u001b[39m.\u001b[39;49mDataFrame(new_data, columns\u001b[39m=\u001b[39;49mmodel_name, index\u001b[39m=\u001b[39;49mparagraph)\n\u001b[1;32m     30\u001b[0m df_Q2\n",
      "File \u001b[0;32m~/software/miniconda3/envs/syn2act/lib/python3.9/site-packages/pandas/core/frame.py:722\u001b[0m, in \u001b[0;36mDataFrame.__init__\u001b[0;34m(self, data, index, columns, dtype, copy)\u001b[0m\n\u001b[1;32m    712\u001b[0m         mgr \u001b[39m=\u001b[39m dict_to_mgr(\n\u001b[1;32m    713\u001b[0m             \u001b[39m# error: Item \"ndarray\" of \"Union[ndarray, Series, Index]\" has no\u001b[39;00m\n\u001b[1;32m    714\u001b[0m             \u001b[39m# attribute \"name\"\u001b[39;00m\n\u001b[0;32m   (...)\u001b[0m\n\u001b[1;32m    719\u001b[0m             typ\u001b[39m=\u001b[39mmanager,\n\u001b[1;32m    720\u001b[0m         )\n\u001b[1;32m    721\u001b[0m     \u001b[39melse\u001b[39;00m:\n\u001b[0;32m--> 722\u001b[0m         mgr \u001b[39m=\u001b[39m ndarray_to_mgr(\n\u001b[1;32m    723\u001b[0m             data,\n\u001b[1;32m    724\u001b[0m             index,\n\u001b[1;32m    725\u001b[0m             columns,\n\u001b[1;32m    726\u001b[0m             dtype\u001b[39m=\u001b[39;49mdtype,\n\u001b[1;32m    727\u001b[0m             copy\u001b[39m=\u001b[39;49mcopy,\n\u001b[1;32m    728\u001b[0m             typ\u001b[39m=\u001b[39;49mmanager,\n\u001b[1;32m    729\u001b[0m         )\n\u001b[1;32m    731\u001b[0m \u001b[39m# For data is list-like, or Iterable (will consume into list)\u001b[39;00m\n\u001b[1;32m    732\u001b[0m \u001b[39melif\u001b[39;00m is_list_like(data):\n",
      "File \u001b[0;32m~/software/miniconda3/envs/syn2act/lib/python3.9/site-packages/pandas/core/internals/construction.py:349\u001b[0m, in \u001b[0;36mndarray_to_mgr\u001b[0;34m(values, index, columns, dtype, copy, typ)\u001b[0m\n\u001b[1;32m    344\u001b[0m \u001b[39m# _prep_ndarraylike ensures that values.ndim == 2 at this point\u001b[39;00m\n\u001b[1;32m    345\u001b[0m index, columns \u001b[39m=\u001b[39m _get_axes(\n\u001b[1;32m    346\u001b[0m     values\u001b[39m.\u001b[39mshape[\u001b[39m0\u001b[39m], values\u001b[39m.\u001b[39mshape[\u001b[39m1\u001b[39m], index\u001b[39m=\u001b[39mindex, columns\u001b[39m=\u001b[39mcolumns\n\u001b[1;32m    347\u001b[0m )\n\u001b[0;32m--> 349\u001b[0m _check_values_indices_shape_match(values, index, columns)\n\u001b[1;32m    351\u001b[0m \u001b[39mif\u001b[39;00m typ \u001b[39m==\u001b[39m \u001b[39m\"\u001b[39m\u001b[39marray\u001b[39m\u001b[39m\"\u001b[39m:\n\u001b[1;32m    353\u001b[0m     \u001b[39mif\u001b[39;00m \u001b[39missubclass\u001b[39m(values\u001b[39m.\u001b[39mdtype\u001b[39m.\u001b[39mtype, \u001b[39mstr\u001b[39m):\n",
      "File \u001b[0;32m~/software/miniconda3/envs/syn2act/lib/python3.9/site-packages/pandas/core/internals/construction.py:420\u001b[0m, in \u001b[0;36m_check_values_indices_shape_match\u001b[0;34m(values, index, columns)\u001b[0m\n\u001b[1;32m    418\u001b[0m passed \u001b[39m=\u001b[39m values\u001b[39m.\u001b[39mshape\n\u001b[1;32m    419\u001b[0m implied \u001b[39m=\u001b[39m (\u001b[39mlen\u001b[39m(index), \u001b[39mlen\u001b[39m(columns))\n\u001b[0;32m--> 420\u001b[0m \u001b[39mraise\u001b[39;00m \u001b[39mValueError\u001b[39;00m(\u001b[39mf\u001b[39m\u001b[39m\"\u001b[39m\u001b[39mShape of passed values is \u001b[39m\u001b[39m{\u001b[39;00mpassed\u001b[39m}\u001b[39;00m\u001b[39m, indices imply \u001b[39m\u001b[39m{\u001b[39;00mimplied\u001b[39m}\u001b[39;00m\u001b[39m\"\u001b[39m)\n",
      "\u001b[0;31mValueError\u001b[0m: Shape of passed values is (3, 5), indices imply (2, 3)"
     ]
    }
   ],
   "source": [
    "Q2_time_list = []\n",
    "\n",
    "\n",
    "def calculate_Q2():\n",
    "    for i in range(len(Q2_list)):\n",
    "        start = time.time()\n",
    "        Q2_gpt_4_object = Segmentor(\"gpt-4\", Q2_list[i])\n",
    "        Q2_gpt_4_object.syn2segment()\n",
    "        end = time.time()\n",
    "        Q2_time_list.append(end - start)\n",
    "\n",
    "    for i in range(len(Q2_list)):\n",
    "        start = time.time()\n",
    "        Q2_gpt_35_object = Segmentor(\"gpt-3.5-turbo-16k\", Q2_list[i])\n",
    "        Q2_gpt_35_object.syn2segment()\n",
    "        end = time.time()\n",
    "        Q2_time_list.append(end - start)\n",
    "\n",
    "    for i in range(len(Q2_list)):\n",
    "        start = time.time()\n",
    "        Q2_anthropicai_object = Segmentor(\"anthropicai\", Q2_list[i])\n",
    "        Q2_anthropicai_object.syn2segment()\n",
    "        end = time.time()\n",
    "        Q2_time_list.append(end - start)\n",
    "\n",
    "\n",
    "calculate_Q2()\n",
    "\n",
    "data = np.array(Q2_time_list)"
   ]
  },
  {
   "cell_type": "code",
   "execution_count": 31,
   "metadata": {},
   "outputs": [
    {
     "data": {
      "text/html": [
       "<div>\n",
       "<style scoped>\n",
       "    .dataframe tbody tr th:only-of-type {\n",
       "        vertical-align: middle;\n",
       "    }\n",
       "\n",
       "    .dataframe tbody tr th {\n",
       "        vertical-align: top;\n",
       "    }\n",
       "\n",
       "    .dataframe thead th {\n",
       "        text-align: right;\n",
       "    }\n",
       "</style>\n",
       "<table border=\"1\" class=\"dataframe\">\n",
       "  <thead>\n",
       "    <tr style=\"text-align: right;\">\n",
       "      <th></th>\n",
       "      <th>Ex1</th>\n",
       "      <th>Ex2</th>\n",
       "      <th>Ex3</th>\n",
       "      <th>Ex4</th>\n",
       "      <th>Ex5</th>\n",
       "    </tr>\n",
       "  </thead>\n",
       "  <tbody>\n",
       "    <tr>\n",
       "      <th>gpt-4</th>\n",
       "      <td>51.350837</td>\n",
       "      <td>44.570779</td>\n",
       "      <td>66.334455</td>\n",
       "      <td>46.925668</td>\n",
       "      <td>34.321843</td>\n",
       "    </tr>\n",
       "    <tr>\n",
       "      <th>gpt-3.5-turbo-16k</th>\n",
       "      <td>14.752590</td>\n",
       "      <td>14.753291</td>\n",
       "      <td>18.187442</td>\n",
       "      <td>14.718845</td>\n",
       "      <td>12.693321</td>\n",
       "    </tr>\n",
       "    <tr>\n",
       "      <th>anthropicai-claude-v1.3</th>\n",
       "      <td>11.233069</td>\n",
       "      <td>11.663896</td>\n",
       "      <td>11.317109</td>\n",
       "      <td>13.642480</td>\n",
       "      <td>9.784524</td>\n",
       "    </tr>\n",
       "  </tbody>\n",
       "</table>\n",
       "</div>"
      ],
      "text/plain": [
       "                               Ex1        Ex2        Ex3        Ex4        Ex5\n",
       "gpt-4                    51.350837  44.570779  66.334455  46.925668  34.321843\n",
       "gpt-3.5-turbo-16k        14.752590  14.753291  18.187442  14.718845  12.693321\n",
       "anthropicai-claude-v1.3  11.233069  11.663896  11.317109  13.642480   9.784524"
      ]
     },
     "execution_count": 31,
     "metadata": {},
     "output_type": "execute_result"
    }
   ],
   "source": [
    "new_data = data.reshape(3, 5)\n",
    "df_Q2 = pd.DataFrame(new_data, columns=example, index=model_name)\n",
    "df_Q2"
   ]
  },
  {
   "cell_type": "code",
   "execution_count": 33,
   "metadata": {},
   "outputs": [
    {
     "name": "stderr",
     "output_type": "stream",
     "text": [
      "/home/lance/software/miniconda3/envs/syn2act/lib/python3.9/site-packages/langchain/llms/anthropic.py:134: UserWarning: This Anthropic LLM is deprecated. Please use `from langchain.chat_models import ChatAnthropic` instead\n",
      "  warnings.warn(\n"
     ]
    },
    {
     "data": {
      "text/html": [
       "<div>\n",
       "<style scoped>\n",
       "    .dataframe tbody tr th:only-of-type {\n",
       "        vertical-align: middle;\n",
       "    }\n",
       "\n",
       "    .dataframe tbody tr th {\n",
       "        vertical-align: top;\n",
       "    }\n",
       "\n",
       "    .dataframe thead th {\n",
       "        text-align: right;\n",
       "    }\n",
       "</style>\n",
       "<table border=\"1\" class=\"dataframe\">\n",
       "  <thead>\n",
       "    <tr style=\"text-align: right;\">\n",
       "      <th></th>\n",
       "      <th>Ex1</th>\n",
       "      <th>Ex2</th>\n",
       "      <th>Ex3</th>\n",
       "      <th>Ex4</th>\n",
       "      <th>Ex5</th>\n",
       "    </tr>\n",
       "  </thead>\n",
       "  <tbody>\n",
       "    <tr>\n",
       "      <th>gpt-4</th>\n",
       "      <td>51.350837</td>\n",
       "      <td>44.570779</td>\n",
       "      <td>66.334455</td>\n",
       "      <td>46.925668</td>\n",
       "      <td>34.321843</td>\n",
       "    </tr>\n",
       "    <tr>\n",
       "      <th>gpt-3.5-turbo-16k</th>\n",
       "      <td>14.752590</td>\n",
       "      <td>14.753291</td>\n",
       "      <td>18.187442</td>\n",
       "      <td>14.718845</td>\n",
       "      <td>12.693321</td>\n",
       "    </tr>\n",
       "    <tr>\n",
       "      <th>anthropicai-claude-v1.3</th>\n",
       "      <td>11.233069</td>\n",
       "      <td>11.663896</td>\n",
       "      <td>11.317109</td>\n",
       "      <td>13.642480</td>\n",
       "      <td>9.784524</td>\n",
       "    </tr>\n",
       "  </tbody>\n",
       "</table>\n",
       "</div>"
      ],
      "text/plain": [
       "                               Ex1        Ex2        Ex3        Ex4        Ex5\n",
       "gpt-4                    51.350837  44.570779  66.334455  46.925668  34.321843\n",
       "gpt-3.5-turbo-16k        14.752590  14.753291  18.187442  14.718845  12.693321\n",
       "anthropicai-claude-v1.3  11.233069  11.663896  11.317109  13.642480   9.784524"
      ]
     },
     "execution_count": 33,
     "metadata": {},
     "output_type": "execute_result"
    }
   ],
   "source": [
    "Q3_time_list = []\n",
    "\n",
    "\n",
    "def calculate_Q3():\n",
    "    for i in range(len(Q3_list)):\n",
    "        start = time.time()\n",
    "        Q3_gpt_4_object = Segmentor(\"gpt-4\", Q3_list[i])\n",
    "        Q3_gpt4_results.append(Q3_gpt_4_object.syn2segment())\n",
    "        end = time.time()\n",
    "        Q3_time_list.append(end - start)\n",
    "\n",
    "    for i in range(len(Q3_list)):\n",
    "        start = time.time()\n",
    "        Q3_gpt_35_object = Segmentor(\"gpt-3.5-turbo-16k\", Q3_list[i])\n",
    "        Q3_gpt_35_object.syn2segment()\n",
    "        end = time.time()\n",
    "        Q3_time_list.append(end - start)\n",
    "\n",
    "    for i in range(len(Q3_list)):\n",
    "        start = time.time()\n",
    "        Q3_anthropicai_object = Segmentor(\"anthropicai\", Q3_list[i])\n",
    "        Q3_anthropicai_results.append(Q3_anthropicai_object.syn2segment())\n",
    "        end = time.time()\n",
    "        Q3_time_list.append(end - start)\n",
    "\n",
    "\n",
    "calculate_Q3()\n",
    "\n",
    "data_Q3 = np.array(Q3_time_list)\n",
    "new_data_Q3 = data_Q3.reshape(3, 5)\n",
    "df_Q3 = pd.DataFrame(new_data_Q3, columns=example, index=model_name)\n",
    "df_Q3"
   ]
  },
  {
   "cell_type": "code",
   "execution_count": 35,
   "metadata": {},
   "outputs": [
    {
     "data": {
      "text/html": [
       "<div>\n",
       "<style scoped>\n",
       "    .dataframe tbody tr th:only-of-type {\n",
       "        vertical-align: middle;\n",
       "    }\n",
       "\n",
       "    .dataframe tbody tr th {\n",
       "        vertical-align: top;\n",
       "    }\n",
       "\n",
       "    .dataframe thead th {\n",
       "        text-align: right;\n",
       "    }\n",
       "</style>\n",
       "<table border=\"1\" class=\"dataframe\">\n",
       "  <thead>\n",
       "    <tr style=\"text-align: right;\">\n",
       "      <th></th>\n",
       "      <th>Ex1</th>\n",
       "      <th>Ex2</th>\n",
       "      <th>Ex3</th>\n",
       "      <th>Ex4</th>\n",
       "      <th>Ex5</th>\n",
       "    </tr>\n",
       "  </thead>\n",
       "  <tbody>\n",
       "    <tr>\n",
       "      <th>gpt-4</th>\n",
       "      <td>55.156530</td>\n",
       "      <td>60.656772</td>\n",
       "      <td>48.223689</td>\n",
       "      <td>51.886403</td>\n",
       "      <td>73.018801</td>\n",
       "    </tr>\n",
       "    <tr>\n",
       "      <th>gpt-3.5-turbo-16k</th>\n",
       "      <td>13.320080</td>\n",
       "      <td>17.674734</td>\n",
       "      <td>15.517937</td>\n",
       "      <td>12.865705</td>\n",
       "      <td>17.088787</td>\n",
       "    </tr>\n",
       "    <tr>\n",
       "      <th>anthropicai-claude-v1.3</th>\n",
       "      <td>13.487364</td>\n",
       "      <td>13.863076</td>\n",
       "      <td>14.421516</td>\n",
       "      <td>13.440114</td>\n",
       "      <td>16.964211</td>\n",
       "    </tr>\n",
       "  </tbody>\n",
       "</table>\n",
       "</div>"
      ],
      "text/plain": [
       "                               Ex1        Ex2        Ex3        Ex4        Ex5\n",
       "gpt-4                    55.156530  60.656772  48.223689  51.886403  73.018801\n",
       "gpt-3.5-turbo-16k        13.320080  17.674734  15.517937  12.865705  17.088787\n",
       "anthropicai-claude-v1.3  13.487364  13.863076  14.421516  13.440114  16.964211"
      ]
     },
     "execution_count": 35,
     "metadata": {},
     "output_type": "execute_result"
    }
   ],
   "source": [
    "new_data_Q3 = data_Q3.reshape(3, 5)\n",
    "df_Q3 = pd.DataFrame(new_data_Q3, columns=example, index=model_name)\n",
    "df_Q3"
   ]
  },
  {
   "cell_type": "code",
   "execution_count": 36,
   "metadata": {},
   "outputs": [],
   "source": [
    "Q3_gpt4_results = []\n",
    "Q3_anthropicai_results = []\n",
    "for i in range(len(Q3_list)):\n",
    "    start = time.time()\n",
    "    Q3_gpt_4_object = Segmentor(\"gpt-4\", Q3_list[i])\n",
    "    Q3_gpt4_results.append(Q3_gpt_4_object.syn2segment())\n",
    "    end = time.time()\n",
    "    Q3_time_list.append(end - start)"
   ]
  },
  {
   "cell_type": "code",
   "execution_count": 37,
   "metadata": {},
   "outputs": [
    {
     "name": "stderr",
     "output_type": "stream",
     "text": [
      "/home/lance/software/miniconda3/envs/syn2act/lib/python3.9/site-packages/langchain/llms/anthropic.py:134: UserWarning: This Anthropic LLM is deprecated. Please use `from langchain.chat_models import ChatAnthropic` instead\n",
      "  warnings.warn(\n"
     ]
    }
   ],
   "source": [
    "for i in range(len(Q3_list)):\n",
    "    start = time.time()\n",
    "    Q3_anthropicai_object = Segmentor(\"anthropicai\", Q3_list[i])\n",
    "    Q3_anthropicai_results.append(Q3_anthropicai_object.syn2segment())\n",
    "    end = time.time()\n",
    "    Q3_time_list.append(end - start)"
   ]
  },
  {
   "attachments": {},
   "cell_type": "markdown",
   "metadata": {},
   "source": [
    "Q3_gpt4_results"
   ]
  },
  {
   "cell_type": "code",
   "execution_count": 54,
   "metadata": {},
   "outputs": [
    {
     "data": {
      "text/plain": [
       "[{'text segment': \"'Prepared according to procedure T using 4-(3,3-dimethylindolin-6-yl)morpholine (0.2 g, 0.86 mmol), 7,9-dichloro-3,3-dimethyl-2,3-dihydro-1H-cyclopenta[b]-quinoline (0.434 g, 1.72 mmol), cesium carbonate (0.561 g, 1.72 mmol), Pd2(dba)3 (0.079 g, 0.086 mmol) and (±) BINAP (0.084 g, 0.129 mmol) in 1,4-dioxane (2 mL).'\",\n",
       "  'text class': 'reaction set-up',\n",
       "  'explanation': 'this is the reaction set-up because the reactants (4-(3,3-dimethylindolin-6-yl)morpholine, 7,9-dichloro-3,3-dimethyl-2,3-dihydro-1H-cyclopenta[b]-quinoline, cesium carbonate, Pd2(dba)3, and (±) BINAP) and solvent (1,4-dioxane) are specified along with their amounts and concentrations.',\n",
       "  'step order': '1'},\n",
       " {'text segment': \"'After HPLC purification 7-chloro-9-(3,3-dimethyl-6-(4-morpholinyl)-2,3-dihydro-1H-indol-1-yl)-3,3-dimethyl-2,3-dihydro-1H-cyclopenta[b]-quinoline was obtained.'\",\n",
       "  'text class': 'purification',\n",
       "  'explanation': 'this is the purification step because the purification method (HPLC) is mentioned in this segment.',\n",
       "  'step order': '2'},\n",
       " {'text segment': \"'1H NMR (500 MHz, DMSO-d6) δ ppm 8.02 (1H, d, J=9.0 Hz), 7.86 (1H, m), 7.68 (1H, m), 7.06 (1H, m), 6.38 (1H, m), 5.73 (1H, s), 3.86 (2H, d, J=0.5 Hz), 3.73 (2H, s), 3.62 (4H, dd, J=5.4, 4.4 Hz), 3.06 (1H, m), 2.84-2.94 (4H, m), 1.96 (1H, m), 1.33 (12H, m). Mass Spectrum (ESI) m/e=463 (M+1).'\",\n",
       "  'text class': 'analysis',\n",
       "  'explanation': 'this is the analysis step because the analytical methods (1H NMR and Mass Spectrum (ESI)) are given in this paragraph.',\n",
       "  'step order': '3'}]"
      ]
     },
     "execution_count": 54,
     "metadata": {},
     "output_type": "execute_result"
    }
   ],
   "source": [
    "Q3_gpt4_results[4]"
   ]
  },
  {
   "cell_type": "code",
   "execution_count": 55,
   "metadata": {},
   "outputs": [
    {
     "data": {
      "text/plain": [
       "[{'text segment': \"'Prepared according to procedure T using 4-(3,3-dimethylindolin-6-yl)morpholine (0.2 g, 0.86 mmol), 7,9-dichloro-3,3-dimethyl-2,3-dihydro-1H-cyclopenta[b]-quinoline (0.434 g, 1.72 mmol), cesium carbonate (0.561 g, 1.72 mmol), Pd2(dba)3 (0.079 g, 0.086 mmol) and (±) BINAP (0.084 g, 0.129 mmol) in 1,4-dioxane (2 mL).'\",\n",
       "  'text class': 'reaction set-up',\n",
       "  'explanation': 'this is the reaction set-up because the main reactants (4-(3,3-dimethylindolin-6-yl)morpholine, 7,9-dichloro-3,3-dimethyl-2,3-dihydro-1H-cyclopenta[b]-quinoline, cesium carbonate, Pd2(dba)3 and (±) BINAP) and solvent (1,4-dioxane) are specified in this paragraph.',\n",
       "  'step order': '1'},\n",
       " {'text segment': \"'After HPLC purification 7-chloro-9-(3,3-dimethyl-6-(4-morpholinyl)-2,3-dihydro-1H-indol-1-yl)-3,3-dimethyl-2,3-dihydro-1H-cyclopenta[b]-quinoline was obtained.'\",\n",
       "  'text class': 'purification',\n",
       "  'explanation': 'this is the purification step because the purification method (HPLC) is indicated in this segment.',\n",
       "  'step order': '2'},\n",
       " {'text segment': \"'1H NMR (500 MHz, DMSO-d6) δ ppm 8.02 (1H, d, J=9.0 Hz), 7.86 (1H, m), 7.68 (1H, m), 7.06 (1H, m), 6.38 (1H, m), 5.73 (1H, s), 3.86 (2H, d, J=0.5 Hz), 3.73 (2H, s), 3.62 (4H, dd, J=5.4, 4.4 Hz), 3.06 (1H, m), 2.84-2.94 (4H, m), 1.96 (1H, m), 1.33 (12H, m). Mass Spectrum (ESI) m/e=463 (M+1).'\",\n",
       "  'text class': 'analysis',\n",
       "  'explanation': 'this is the analysis as the analytical methods (1H NMR, Mass Spectrum (ESI)) are given in this paragraph.',\n",
       "  'step order': '3'}]"
      ]
     },
     "execution_count": 55,
     "metadata": {},
     "output_type": "execute_result"
    }
   ],
   "source": [
    "Q3_anthropicai_results[4]"
   ]
  },
  {
   "cell_type": "code",
   "execution_count": null,
   "metadata": {},
   "outputs": [],
   "source": []
  }
 ],
 "metadata": {
  "kernelspec": {
   "display_name": "syn2act",
   "language": "python",
   "name": "python3"
  },
  "language_info": {
   "codemirror_mode": {
    "name": "ipython",
    "version": 3
   },
   "file_extension": ".py",
   "mimetype": "text/x-python",
   "name": "python",
   "nbconvert_exporter": "python",
   "pygments_lexer": "ipython3",
   "version": "3.9.16"
  },
  "orig_nbformat": 4
 },
 "nbformat": 4,
 "nbformat_minor": 2
}
